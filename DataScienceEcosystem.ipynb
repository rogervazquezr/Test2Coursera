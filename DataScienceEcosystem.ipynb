{
 "cells": [
  {
   "cell_type": "markdown",
   "id": "6bc8dca4",
   "metadata": {},
   "source": [
    "# <h1>Data Science Tools and Ecosystem<h1>"
   ]
  },
  {
   "cell_type": "markdown",
   "id": "10538724",
   "metadata": {},
   "source": [
    "In this notebook, Data Science Tools and Ecosystem are summarized."
   ]
  },
  {
   "cell_type": "markdown",
   "id": "a8d45cdb",
   "metadata": {},
   "source": [
    "Some of the popular languagues that Data Scientists use are:\n",
    "\n",
    "<ol>\n",
    "<li>Python</li>\n",
    "<li>Pyspark</li>\n",
    "<li>SQL</li>\n",
    "</ol>"
   ]
  },
  {
   "cell_type": "markdown",
   "id": "3bbfe606",
   "metadata": {},
   "source": [
    "<b>Objectives:</b>\n",
    "List popular languages for Data Science\n",
    "\n",
    "<ul>\n",
    "    <li>R</li>\n",
    "    <li>SQL</li>\n",
    "    <li>Scala</li>\n",
    "    <li>Python</li>\n",
    "    <li>Julia</li>\n",
    "</ul>"
   ]
  },
  {
   "cell_type": "markdown",
   "id": "5436d676",
   "metadata": {},
   "source": [
    "Some of the commonly used libraries used by Data Scientists include:\n",
    "\n",
    "1.-Pandas\n",
    "2.-Matplotlib\n",
    "3.-Numpy"
   ]
  },
  {
   "cell_type": "markdown",
   "id": "cbd4436b",
   "metadata": {},
   "source": [
    "|Data Science Tools|\n",
    "--------\n",
    "Anaconda|\n",
    "Spark|\n",
    "Spyder|"
   ]
  },
  {
   "cell_type": "markdown",
   "id": "deb7f5c5",
   "metadata": {},
   "source": [
    "<h3>Below are a few examples of evaluation arithmetic expressions in Python<h3>"
   ]
  },
  {
   "cell_type": "code",
   "execution_count": 2,
   "id": "dfaf4c5c",
   "metadata": {},
   "outputs": [
    {
     "data": {
      "text/plain": [
       "17"
      ]
     },
     "execution_count": 2,
     "metadata": {},
     "output_type": "execute_result"
    }
   ],
   "source": [
    "(3*4)+5\n",
    "# This a simple arithmetic expression to mutiply then add integers"
   ]
  },
  {
   "cell_type": "code",
   "execution_count": 3,
   "id": "03e68f52",
   "metadata": {},
   "outputs": [
    {
     "data": {
      "text/plain": [
       "3.3333333333333335"
      ]
     },
     "execution_count": 3,
     "metadata": {},
     "output_type": "execute_result"
    }
   ],
   "source": [
    "200/60\n",
    "#This will converts 200 minutes to hours by diving by 60"
   ]
  },
  {
   "cell_type": "markdown",
   "id": "04c94d58",
   "metadata": {},
   "source": [
    "<h2>Author</h2>\n",
    "Roger Vazquez"
   ]
  }
 ],
 "metadata": {
  "kernelspec": {
   "display_name": "Python 3 (ipykernel)",
   "language": "python",
   "name": "python3"
  },
  "language_info": {
   "codemirror_mode": {
    "name": "ipython",
    "version": 3
   },
   "file_extension": ".py",
   "mimetype": "text/x-python",
   "name": "python",
   "nbconvert_exporter": "python",
   "pygments_lexer": "ipython3",
   "version": "3.11.4"
  }
 },
 "nbformat": 4,
 "nbformat_minor": 5
}
